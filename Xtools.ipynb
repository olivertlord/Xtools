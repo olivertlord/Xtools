{
 "cells": [
  {
   "cell_type": "code",
   "execution_count": 34,
   "metadata": {
    "collapsed": false
   },
   "outputs": [
    {
     "data": {
      "text/html": [
       "<script>\n",
       "code_show=true; \n",
       "function code_toggle() {\n",
       " if (code_show){\n",
       " $('div.input').hide();\n",
       " } else {\n",
       " $('div.input').show();\n",
       " }\n",
       " code_show = !code_show\n",
       "} \n",
       "$( document ).ready(code_toggle);\n",
       "</script>\n",
       "The raw code for this IPython notebook is by default hidden for easier reading.\n",
       "To toggle on/off the raw code, click <a href=\"javascript:code_toggle()\">here</a>."
      ],
      "text/plain": [
       "<IPython.core.display.HTML object>"
      ]
     },
     "execution_count": 34,
     "metadata": {},
     "output_type": "execute_result"
    }
   ],
   "source": [
    "from IPython.display import HTML\n",
    "\n",
    "HTML('''<script>\n",
    "code_show=true; \n",
    "function code_toggle() {\n",
    " if (code_show){\n",
    " $('div.input').hide();\n",
    " } else {\n",
    " $('div.input').show();\n",
    " }\n",
    " code_show = !code_show\n",
    "} \n",
    "$( document ).ready(code_toggle);\n",
    "</script>\n",
    "The raw code for this IPython notebook is by default hidden for easier reading.\n",
    "To toggle on/off the raw code, click <a href=\"javascript:code_toggle()\">here</a>.''')\n"
   ]
  },
  {
   "cell_type": "markdown",
   "metadata": {
    "collapsed": true
   },
   "source": [
    "<h1 align=\"center\">Synchrotron Tools</h1>"
   ]
  },
  {
   "cell_type": "markdown",
   "metadata": {},
   "source": [
    "<h2 align=\"left\">Select phase and EoS</h2>"
   ]
  },
  {
   "cell_type": "code",
   "execution_count": 83,
   "metadata": {
    "collapsed": false
   },
   "outputs": [],
   "source": [
    "!jupyter nbextension enable --py --sys-prefix widgetsnbextension\n",
    "\n",
    "import ipywidgets as widgets\n",
    "import numpy as np\n",
    "import sys\n",
    "\n",
    "from ipywidgets import Layout, HBox, VBox\n",
    "from IPython.core.display import display\n",
    "from scipy.optimize import fsolve\n",
    "\n",
    "global P_max\n",
    "P_max, V0, EoS = 200, 40, 2\n",
    "\n",
    "def phase_selector(phase):\n",
    "    global K, Kp, V0, a0, b0, c0\n",
    "    if phase == 2: \n",
    "        #Data from: Tange et al. (2012) 10.1029/2011JB008988 and Tange et al. (2009) 10.1029/2008JB005891\n",
    "        V0, K, Kp, a0, b0, c0 = 162.373, 258.4, 4.1, 4.7769, 4.9284, 6.8972\n",
    "    if phase == 3: \n",
    "        #Data from: Fiquet et al. (2002) American Mineralogist 87:1261-1265\n",
    "        V0, K, Kp, a0, b0, c0 = 279.2, 108, 5, 4.6377, 4.6377, 15.007\n",
    "    if phase == 4: \n",
    "        #Data from: Wang et al. (2012) 10.1029/2011JB009100\n",
    "        if EoS == 2:\n",
    "            V0, K, Kp, a0, b0, c0 = 46.55, 294, 4.85, 4.66, 4.66, 2.8403\n",
    "        if EoS == 3:\n",
    "            V0, K, Kp, a0, b0, c0 = 46.55, 292, 5.01, 4.66, 4.66, 2.8403\n",
    "    K_box.value = (\"K = \" + str(K) + \" GPa\")\n",
    "    Kp_box.value = (\"K' = \" + str(K))\n",
    "    V0_box.value = (\"V₀ = \" + str(K) + \" Å³\")\n",
    "    EoS_selector(EoS)\n",
    "    \n",
    "def EoS_selector(EoS):\n",
    "    P_slider.value = 0\n",
    "    V_slider.max = V0\n",
    "    V_slider.value = V0\n",
    "    if EoS == 2:\n",
    "        V_slider.min = fsolve(lambda V,P: BM3(V,P), 1, args=(P_max), xtol=1e-5)\n",
    "    if EoS == 3:\n",
    "        V_slider.min = fsolve(lambda V,P: Vinet(V,P), 1, args=(P_max), xtol=1e-5)\n",
    "            \n",
    "def BM3(V,P):\n",
    "    return P-((3/2)*K*(((V0/V)**(7/3))-((V0/V)**(5/3)))*(1-(3/4)*(4-Kp))*((V0/V)**(2/3)-1))\n",
    "\n",
    "def Vinet(V,P):\n",
    "    return P-(3*K*((1-((V/V0)**(1/3)))/((V/V0)**(2/3)))*np.exp((3/2)*(Kp-1)*(1-((V/V0)**(1/3)))))\n",
    "            \n",
    "dropdown1 = widgets.Dropdown(options = {'Choose': 1, 'MgSiO3 perovskite': 2, 'MgCO3 magnesite': 3, 'SiO2 stishovite': 4},description='Phase:',layout=Layout(width='47.5%'))\n",
    "dropdown2 = widgets.Dropdown(options = {'Choose': 1, '3rd Order Birch-Murnaghan': 2, 'Vinet': 3},description='EoS:',layout=Layout(width='47.5%'))    \n",
    "\n",
    "w1=widgets.interactive(phase_selector,phase=dropdown1)\n",
    "w2=widgets.interactive(EoS_selector,EoS=dropdown2)\n",
    "\n",
    "K_box = widgets.Text(disabled=True,text_color='green',background_color='green',layout=Layout(width='12%'))\n",
    "Kp_box = widgets.Text(disabled=True,text_color='green',background_color='green',layout=Layout(width='12%'))\n",
    "V0_box = widgets.Text(disabled=True,text_color='green',background_color='green',layout=Layout(width='12%'))\n",
    "\n",
    "VBox([HBox([dropdown1, K_box, Kp_box, V0_box]), HBox([dropdown2])])"
   ]
  },
  {
   "cell_type": "markdown",
   "metadata": {},
   "source": [
    "<h2 align=\"left\">TOOL 1: PV calculator</h2>"
   ]
  },
  {
   "cell_type": "code",
   "execution_count": 82,
   "metadata": {
    "collapsed": false
   },
   "outputs": [],
   "source": [
    "def V_calc(P,EoS):\n",
    "        if EoS == 2:\n",
    "            V = fsolve(lambda V,P: BM3(V,P), 1, args=(P), xtol=1e-5)\n",
    "        if EoS == 3:\n",
    "            V = fsolve(lambda V,P: Vinet(V,P), 1, args=(P), xtol=1e-5)\n",
    "        VV_box.value = (\"V = \" + str(np.around(V,3))[1:-1] + \" Å³\")\n",
    "        Va_box.value = (\"a = \" + str(np.around((V/V0)**(1/3)*a0,3))[1:-1] + \" Å\")\n",
    "        Vb_box.value = (\"b = \" + str(np.around((V/V0)**(1/3)*b0,3))[1:-1] + \" Å\")\n",
    "        Vc_box.value = (\"c = \" + str(np.around((V/V0)**(1/3)*c0,3))[1:-1] + \" Å\")\n",
    "              \n",
    "P_slider = widgets.FloatSlider(min=0, max=200, step=0.1, value=0, description='P in GPa:',slider_color='green',layout=Layout(width='52.5%'))            \n",
    "widgets.interactive(V_calc,EoS=dropdown2,P=P_slider)\n",
    "\n",
    "#VV_box = widgets.Text(disabled=True,color='black',layout=Layout(width='12%'))\n",
    "#Va_box = widgets.Text(disabled=True,color='black',layout=Layout(width='12%'))\n",
    "#Vb_box = widgets.Text(disabled=True,color='black',layout=Layout(width='12%'))\n",
    "#Vc_box = widgets.Text(disabled=True,color='black',layout=Layout(width='12%'))\n",
    "box_titles = ['VV_box', 'Va_box','Vb_box','Vc_box']\n",
    "boxes = [widgets.Text(disabled=True,color='black',layout=Layout(width='12%')) for i in box_titles]\n",
    "\n",
    "VBox([HBox([P_slider]), HBox([VV_box, Va_box, Vb_box, Vc_box])])"
   ]
  },
  {
   "cell_type": "code",
   "execution_count": null,
   "metadata": {
    "collapsed": true
   },
   "outputs": [],
   "source": []
  }
 ],
 "metadata": {
  "anaconda-cloud": {},
  "kernelspec": {
   "display_name": "Python 3",
   "language": "python",
   "name": "python3"
  },
  "language_info": {
   "codemirror_mode": {
    "name": "ipython",
    "version": 3
   },
   "file_extension": ".py",
   "mimetype": "text/x-python",
   "name": "python",
   "nbconvert_exporter": "python",
   "pygments_lexer": "ipython3",
   "version": "3.6.0"
  },
  "widgets": {
   "state": {
    "06d1d78144a1403ab91b0af234b9bff7": {
     "views": [
      {
       "cell_index": 3
      }
     ]
    },
    "231a1a045b874ddfbf4066ee3d406f9e": {
     "views": [
      {
       "cell_index": 3
      }
     ]
    },
    "23ec513a4f5b4db5b244405bc7113992": {
     "views": [
      {
       "cell_index": 3
      }
     ]
    },
    "2e266089dd484d6ebc4e11f7bac3b2d6": {
     "views": [
      {
       "cell_index": 3
      }
     ]
    },
    "32fe4a7518f64b7bbdc666e513221d0d": {
     "views": [
      {
       "cell_index": 3
      }
     ]
    },
    "36f0096d603f4f1db7dd296dd414678f": {
     "views": [
      {
       "cell_index": 3
      }
     ]
    },
    "3cdfb93ee70340ba981fa4265be97212": {
     "views": [
      {
       "cell_index": 3
      }
     ]
    },
    "505dd271cc0943bb8ffc43202989d79e": {
     "views": [
      {
       "cell_index": 3
      }
     ]
    },
    "5577639bac5a4a96a923f991a656a84f": {
     "views": [
      {
       "cell_index": 3
      }
     ]
    },
    "6621c1d4fee646799bc1bfaf42986d12": {
     "views": [
      {
       "cell_index": 3
      }
     ]
    },
    "6cac95020d2d47fabb576582e4e4051f": {
     "views": [
      {
       "cell_index": 3
      }
     ]
    },
    "819878867f0e4a139c54c644214202bd": {
     "views": [
      {
       "cell_index": 3
      }
     ]
    },
    "8f714ece1fdd4d3780d6f6e22198cf38": {
     "views": [
      {
       "cell_index": 3
      }
     ]
    },
    "9043c360a5934848a58b280be0c25eb9": {
     "views": [
      {
       "cell_index": 3
      }
     ]
    },
    "96b0bb0143dd4f1c83448f3cf11820ea": {
     "views": [
      {
       "cell_index": 3
      }
     ]
    },
    "977cf6ddd2654454832297078674ddaf": {
     "views": [
      {
       "cell_index": 5
      }
     ]
    },
    "9cbe1e32a1a84a0185feecd7a8a961ab": {
     "views": [
      {
       "cell_index": 3
      }
     ]
    },
    "a528dad247e2400dabec6c63f24e1704": {
     "views": [
      {
       "cell_index": 3
      }
     ]
    },
    "a82a233137304c4dac50d4ea133e07f0": {
     "views": [
      {
       "cell_index": 3
      }
     ]
    },
    "abb7e58cba914f5d82fb2058398ec95d": {
     "views": [
      {
       "cell_index": 3
      }
     ]
    },
    "b0a7ff421b7f4484b2517347f7b7557c": {
     "views": [
      {
       "cell_index": 3
      }
     ]
    },
    "bda5da8662e749b8866f525ab941ed89": {
     "views": [
      {
       "cell_index": 3
      }
     ]
    },
    "bebbc60bde7e4ae48a7ae537801b9860": {
     "views": [
      {
       "cell_index": 3
      }
     ]
    },
    "e374ab43c2cb4df6af575fa40d653451": {
     "views": [
      {
       "cell_index": 3
      }
     ]
    },
    "e494f68af9cb4073b57377ebed0cc3fc": {
     "views": [
      {
       "cell_index": 3
      }
     ]
    },
    "e93dc0b9a9ce421bbaf74a5a1b66521e": {
     "views": [
      {
       "cell_index": 3
      }
     ]
    },
    "f90d2d9a39184272b050ed079a18b9cf": {
     "views": [
      {
       "cell_index": 3
      }
     ]
    },
    "f9290c884cf44d12a79097beb431d241": {
     "views": [
      {
       "cell_index": 3
      }
     ]
    },
    "fa38f09e30c240c5af0741a992260a0a": {
     "views": [
      {
       "cell_index": 3
      }
     ]
    }
   },
   "version": "1.2.0"
  }
 },
 "nbformat": 4,
 "nbformat_minor": 0
}
