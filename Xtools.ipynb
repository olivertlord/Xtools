{
 "cells": [
  {
   "cell_type": "code",
   "execution_count": 20,
   "metadata": {
    "collapsed": false
   },
   "outputs": [
    {
     "data": {
      "text/html": [
       "<script>\n",
       "code_show=true; \n",
       "function code_toggle() {\n",
       " if (code_show){\n",
       " $('div.input').hide();\n",
       " } else {\n",
       " $('div.input').show();\n",
       " }\n",
       " code_show = !code_show\n",
       "} \n",
       "$( document ).ready(code_toggle);\n",
       "</script>\n",
       "The raw code for this IPython notebook is by default hidden for easier reading.\n",
       "To toggle on/off the raw code, click <a href=\"javascript:code_toggle()\">here</a>."
      ],
      "text/plain": [
       "<IPython.core.display.HTML object>"
      ]
     },
     "execution_count": 20,
     "metadata": {},
     "output_type": "execute_result"
    }
   ],
   "source": [
    "from IPython.display import HTML\n",
    "\n",
    "HTML('''<script>\n",
    "code_show=true; \n",
    "function code_toggle() {\n",
    " if (code_show){\n",
    " $('div.input').hide();\n",
    " } else {\n",
    " $('div.input').show();\n",
    " }\n",
    " code_show = !code_show\n",
    "} \n",
    "$( document ).ready(code_toggle);\n",
    "</script>\n",
    "The raw code for this IPython notebook is by default hidden for easier reading.\n",
    "To toggle on/off the raw code, click <a href=\"javascript:code_toggle()\">here</a>.''')\n"
   ]
  },
  {
   "cell_type": "markdown",
   "metadata": {
    "collapsed": true
   },
   "source": [
    "<h1 align=\"center\">Synchrotron Tools</h1>"
   ]
  },
  {
   "cell_type": "markdown",
   "metadata": {},
   "source": [
    "<h2 align=\"left\">TOOL 1: PV calculator</h2>"
   ]
  },
  {
   "cell_type": "code",
   "execution_count": 46,
   "metadata": {
    "collapsed": false
   },
   "outputs": [
    {
     "data": {
      "text/plain": [
       "(2, 2, 'Tange et al. (2012)', 'Tange et al. (2012)')"
      ]
     },
     "metadata": {},
     "output_type": "display_data"
    }
   ],
   "source": [
    "#!jupyter nbextension enable --py --sys-prefix widgetsnbextension\n",
    "\n",
    "import ipywidgets as widgets\n",
    "import numpy as np\n",
    "import sys\n",
    "\n",
    "from ipywidgets import Layout, HBox, VBox\n",
    "from IPython.core.display import display\n",
    "from scipy.optimize import fsolve\n",
    "\n",
    "global P_max, phase, EoS\n",
    "P_max, V0, EoS = 200, 40, 1\n",
    "\n",
    "def phases(phase,EoS,ref):\n",
    "    global V0, K, Kp, a0, b0, c0\n",
    "    if phase == 2:\n",
    "        #Data from: Tange et al. (2012) 10.1029/2011JB008988 and Tange et al. (2009) 10.1029/2008JB005891\n",
    "        dropdown2.value, dropdown2.disabled = 2, True\n",
    "        with dropdown3.hold_trait_notifications():\n",
    "            dropdown3.options = ['Choose', 'Tange et al. (2012)']\n",
    "        dropdown3.value, dropdown3.disabled = 'Tange et al. (2012)', True\n",
    "        V0, K, Kp, a0, b0, c0 = 162.373, 258.4, 4.1, 4.7769, 4.9284, 6.8972\n",
    "    if phase == 3:\n",
    "        #Data from: Fiquet et al. (2002) American Mineralogist 87:1261-1265\n",
    "        dropdown2.value, dropdown2.disabled = 2, True\n",
    "        with dropdown3.hold_trait_notifications():\n",
    "            dropdown3.options = ['Choose', 'Fiquet et al. (2002)']\n",
    "        dropdown3.value, dropdown3.disabled = 'Fiquet et al. (2002)', True\n",
    "        V0, K, Kp, a0, b0, c0 = 279.2, 108, 5, 4.6377, 4.6377, 15.007\n",
    "    if phase == 4:\n",
    "        #Data from: Wang et al. (2012) 10.1029/2011JB009100\n",
    "        with dropdown3.hold_trait_notifications():\n",
    "            dropdown3.options= ['Choose', 'Wang et al. (2012)']\n",
    "        dropdown3.value, dropdown3.disabled = 'Wang et al. (2012)', True\n",
    "        if EoS == 2:\n",
    "            V0, K, Kp, a0, b0, c0 = 46.55, 294, 4.85, 4.66, 4.66, 2.8403\n",
    "        if EoS == 3:\n",
    "            V0, K, Kp, a0, b0, c0 = 46.55, 292, 5.01, 4.66, 4.66, 2.8403\n",
    "    if phase == 5:\n",
    "        #Data from: Dorogokupets & Dewaele (2007) 10.1080/08957950701659700\n",
    "        dropdown2.value, dropdown2.disabled = 2, True\n",
    "        with dropdown3.hold_trait_notifications():\n",
    "            dropdown3.options = ['Choose', 'Dorogokupets & Dewaele (2007)']\n",
    "        dropdown3.value, dropdown3.disabled = 'Dorogokupets & Dewaele (2007)', True\n",
    "        V0, K, Kp, a0, b0, c0 = 60.38, 277.3, 5.12, 3.9231, 3.9231, 3.9231\n",
    "    if phase == 6:\n",
    "        #Data from: Fei et al. (2012) 10.1073/pnas.0609013104\n",
    "        with dropdown3.hold_trait_notifications():\n",
    "            dropdown3.options= ['Choose', 'Fei et al. (2012)']\n",
    "        dropdown3.value, dropdown3.disabled = 'Fei et al. (2012)', True\n",
    "        if EoS == 2:\n",
    "            V0, K, Kp, a0, b0, c0 = 67.85, 167, 5.77, 4.0786, 4.0786, 4.0786\n",
    "        if EoS == 3:\n",
    "            V0, K, Kp, a0, b0, c0 = 67.85, 167, 6.00, 4.0786, 4.0786, 4.0786\n",
    "    if phase == 7:\n",
    "        with dropdown3.hold_trait_notifications():\n",
    "            dropdown3.options= ['Choose', 'Dorogokupets & Dewaele (2007)', 'Decker (1971)']\n",
    "        dropdown2.disabled = True\n",
    "        #Data from: Dorogokupets & Dewaele (2007) 10.1080/08957950701659700\n",
    "        if ref == 'Dorogokupets & Dewaele (2007)':\n",
    "            dropdown2.value = 3\n",
    "            V0, K, Kp, a0, b0, c0 = 179.44, 23.83, 5.09, 5.6404, 5.6404, 5.6404\n",
    "        #Data from: Decker (1971) 10.1080/08957950701659700\n",
    "        if ref == 'Decker (1971)':\n",
    "            dropdown2.value = 2\n",
    "            V0, K, Kp, a0, b0, c0 = 179.43, 24.02, 4.74, 5.6402, 5.6402, 5.6402\n",
    "    if phase == 8:\n",
    "        #Data from: Dorogokupets & Dewaele (2007) 10.1080/08957950701659700\n",
    "        dropdown2.value, dropdown2.disabled = 3, True\n",
    "        with dropdown3.hold_trait_notifications():\n",
    "            dropdown3.options = ['Choose', 'Dorogokupets & Dewaele (2007)']\n",
    "        dropdown3.value, dropdown3.disabled = 'Dorogokupets & Dewaele (2007)', True\n",
    "        V0, K, Kp, a0, b0, c0 = 40.73, 29.72, 5.14, 3.4407, 3.4407, 3.4407\n",
    "    initialise(EoS)\n",
    "\n",
    "def phase_selector(phase):\n",
    "    dropdown2.value, dropdown2.disabled = 1, False\n",
    "    dropdown3.value, dropdown3.disabled = 'Choose', False\n",
    "    phases\n",
    "                \n",
    "def EoS_selector(EoS):\n",
    "    phases\n",
    "            \n",
    "def ref_selector(ref):\n",
    "    phases\n",
    "            \n",
    "def initialise(EoS):\n",
    "    K_box.value = (\"K = \" + str(K) + \" GPa\")\n",
    "    Kp_box.value = (\"K' = \" + str(Kp))\n",
    "    V0_box.value = (\"V₀ = \" + str(V0) + \" Å³\")\n",
    "    VV_box.value = (\"V = \" + str(V0) + \" Å³\")\n",
    "    Va_box.value = (\"a = \" + str(a0) + \" Å\")\n",
    "    Vb_box.value = (\"b = \" + str(b0) + \" Å\")\n",
    "    Vc_box.value = (\"c = \" + str(c0) + \" Å\")\n",
    "    P_slider.value = 0\n",
    "    if EoS == 1:\n",
    "        K_box.value, Kp_box.value, V0_box.value, VV_box.value, Va_box.value, Vb_box.value, Vc_box.value  = (''), (''), (''), (''), (''), (''), ('')\n",
    "\n",
    "def BM3(V,P):\n",
    "    return P-((3/2)*K*(((V0/V)**(7/3))-((V0/V)**(5/3)))*(1-(3/4)*(4-Kp))*((V0/V)**(2/3)-1))\n",
    "\n",
    "def Vinet(V,P):\n",
    "    return P-(3*K*((1-((V/V0)**(1/3)))/((V/V0)**(2/3)))*np.exp((3/2)*(Kp-1)*(1-((V/V0)**(1/3)))))\n",
    "            \n",
    "dropdown1 = widgets.Dropdown(options = {'Choose': 1, 'MgSiO3 perovskite': 2, 'MgCO3 magnesite': 3, 'SiO2 stishovite': 4, 'Pt': 5, 'Au': 6, 'NaCl B1': 7, 'NaCl B2': 8},description='Phase:',layout=Layout(width='47.5%'))\n",
    "dropdown2 = widgets.Dropdown(options = {'Choose': 1, '3rd Order Birch-Murnaghan': 2, 'Vinet': 3},description='EoS:',layout=Layout(width='47.5%'),disabled=True)    \n",
    "dropdown3 = widgets.Dropdown(options = ['Choose'],description='Ref:',layout=Layout(width='47.5%'),disabled=True)    \n",
    "\n",
    "w1=widgets.interactive(phase_selector,phase=dropdown1,EoS=dropdown2,ref=dropdown3)\n",
    "w2=widgets.interactive(phases,phase=dropdown1,EoS=dropdown2,ref=dropdown3)\n",
    "w3=widgets.interactive(phases,phase=dropdown1,EoS=dropdown2,ref=dropdown3)\n",
    "\n",
    "K_box = widgets.Text(disabled=True,text_color='green',background_color='green',layout=Layout(width='12%'))\n",
    "Kp_box = widgets.Text(disabled=True,text_color='green',background_color='green',layout=Layout(width='12%'))\n",
    "V0_box = widgets.Text(disabled=True,text_color='green',background_color='green',layout=Layout(width='12%'))\n",
    "\n",
    "VBox([HBox([dropdown1]), HBox([dropdown2]), HBox([dropdown3, K_box, Kp_box, V0_box])])"
   ]
  },
  {
   "cell_type": "code",
   "execution_count": 22,
   "metadata": {
    "collapsed": false
   },
   "outputs": [],
   "source": [
    "global P_max, phase, EoS, V0, K, Kp, a0, b0, c0\n",
    "def V_calc(P):\n",
    "        if EoS == 1 or 2:\n",
    "            V = fsolve(lambda V,P: BM3(V,P), 1, args=(P), xtol=1e-5)\n",
    "        if EoS == 3:\n",
    "            V = fsolve(lambda V,P: Vinet(V,P), 1, args=(P), xtol=1e-5)\n",
    "        VV_box.value = (\"V = \" + str(np.around(V,3))[1:-1] + \" Å³\")\n",
    "        Va_box.value = (\"a = \" + str(np.around((V/V0)**(1/3)*a0,3))[1:-1] + \" Å\")\n",
    "        Vb_box.value = (\"b = \" + str(np.around((V/V0)**(1/3)*b0,3))[1:-1] + \" Å\")\n",
    "        Vc_box.value = (\"c = \" + str(np.around((V/V0)**(1/3)*c0,3))[1:-1] + \" Å\")\n",
    "              \n",
    "P_slider = widgets.FloatSlider(min=0, max=200, step=0.1, value=0, description='P in GPa:',slider_color='green',layout=Layout(width='100%'))            \n",
    "widgets.interactive(V_calc,P=P_slider)\n",
    "\n",
    "VV_box = widgets.Text(disabled=True,color='black',layout=Layout(width='19%'),description='Lattice:')\n",
    "Va_box = widgets.Text(disabled=True,color='black',layout=Layout(width='12%'))\n",
    "Vb_box = widgets.Text(disabled=True,color='black',layout=Layout(width='12%'))\n",
    "Vc_box = widgets.Text(disabled=True,color='black',layout=Layout(width='12%'))\n",
    "#box_titles = ['VV_box', 'Va_box','Vb_box','Vc_box']\n",
    "#boxes = [widgets.Text(disabled=True,color='black',layout=Layout(width='12%')) for i in box_titles]\n",
    "\n",
    "VBox([HBox([P_slider]), HBox([VV_box, Va_box, Vb_box, Vc_box])])"
   ]
  },
  {
   "cell_type": "markdown",
   "metadata": {
    "collapsed": true
   },
   "source": [
    "<h2 align=\"left\">TOOL 2: Ruby Fluorescence and Raman Pressure Calibrations</h2>"
   ]
  },
  {
   "cell_type": "code",
   "execution_count": 23,
   "metadata": {
    "collapsed": false
   },
   "outputs": [
    {
     "data": {
      "image/png": "[encoded data removed]",
      "text/plain": [
       "<matplotlib.figure.Figure at 0x1102c3ef0>"
      ]
     },
     "metadata": {},
     "output_type": "display_data"
    }
   ],
   "source": [
    "import matplotlib.pyplot as plt\n",
    "from pylab import *\n",
    "import time\n",
    "ion() # turn interactive mode on\n",
    "\n",
    "A, B = 1904, 9.500\n",
    "\n",
    "def ruby_scale(scale1):\n",
    "    global A, B\n",
    "    if scale1 == 2:\n",
    "        #Data from: Dewaele et al. (2004) 10.1103/PhysRevB.70.094112\n",
    "        A, B = 1904, 9.500\n",
    "        initialise2()\n",
    "    if scale1 == 3:\n",
    "        #Data from: Mao et al. (1986)\n",
    "        A, B = 1904, 7.665\n",
    "        initialise2()\n",
    "\n",
    "def R1_0(R1_0_value):\n",
    "    R1_0 = (float(R1_0_box.value[0:-3]))\n",
    "    \n",
    "def ruby(R1):\n",
    "    R1_0,V1_0,R1,V1=get_boxes()\n",
    "    delta=R1-R1_0\n",
    "    ruby_P=A/B*((1+delta/R1_0)**B-1)\n",
    "    P_slider2.value=ruby_P\n",
    "    raman_slider.value=(ruby_P*(1/0.501))+V1_0\n",
    "    cal_plot(V1,V1_0)\n",
    "\n",
    "def raman_scale(scale2):\n",
    "    return scale2\n",
    "\n",
    "def V1_0(V1_0_value):\n",
    "    V1_0 = (float(V1_0_box.value[0:-5]))\n",
    "\n",
    "def raman(V1):\n",
    "    R1_0,V1_0,R1,V1=get_boxes()\n",
    "    raman_P=0.501*(V1-V1_0)\n",
    "    P_slider2.value=raman_P\n",
    "    ruby_slider.value=R1_0*(((B*((A/B)+raman_P))/A)**(1/B))\n",
    "    cal_plot(V1,V1_0)\n",
    "    \n",
    "def get_boxes():\n",
    "    R1_0   = (float(R1_0_box.value[0:-3]))\n",
    "    V1_0   = (float(V1_0_box.value[0:-5]))\n",
    "    R1     = ruby_slider.value\n",
    "    V1     = raman_slider.value\n",
    "    return (R1_0,V1_0,R1,V1)\n",
    "\n",
    "def initialise2():\n",
    "    R1_0,V1_0,R1,V1=get_boxes()\n",
    "    ruby_slider.max    = 750\n",
    "    ruby_slider.value  = R1_0\n",
    "    ruby_slider.min    = R1_0\n",
    "    P_slider2.max      = A/B*((1+(ruby_slider.max-R1_0)/R1_0)**B-1)\n",
    "    P_slider2.value    = 0\n",
    "    raman_slider.max   = ((P_slider2.max*(1/0.501))+V1_0)\n",
    "    raman_slider.value = V1_0\n",
    "    raman_slider.min   = V1_0\n",
    "    \n",
    "def cal_plot(V1,V1_0):\n",
    "    R1_0,V1_0,R1,V1=get_boxes()    \n",
    "    dV = V1-V1_0\n",
    "    dV_range = np.arange(0., (raman_slider.max-V1_0), 0.2)\n",
    "    figure(num=1, figsize=(8, 6), dpi=80, facecolor='w', edgecolor='k')\n",
    "    line1, line2, = plot(dV_range, dV_range*0.501, 'r-', dV, dV*0.501,  'bo')\n",
    "    plt.ylim(0, P_slider2.max)\n",
    "    plt.xlim(0, raman_slider.max-V1_0)\n",
    "    ylab = 'Raman Pressure (GPa)'\n",
    "    plt.ylabel('Pressure (GPa)', fontsize=18)\n",
    "    plt.xlabel('Δν (cm⁻¹)', fontsize=18)\n",
    "    \n",
    "ruby_dropdown = widgets.Dropdown(options = {'Choose': 1, 'Hydrostatic - Dewaele et al. 2004': 2, 'Non-hydrostatic - Mao et al. 1986': 3},description='RUBY:',layout=Layout(width='35%'))\n",
    "raman_dropdown = widgets.Dropdown(options = {'Walter et al. 2014': 1},description='RAMAN:',layout=Layout(width='35%'),disabled=True)\n",
    "\n",
    "R1_0_box = widgets.Text(value='694.2 nm',disabled=False,text_color='green',background_color='green',layout=Layout(width='18%'),description='R1 λ₀:')\n",
    "V1_0_box = widgets.Text(value='1332 cm⁻¹',disabled=False,text_color='green',background_color='green',layout=Layout(width='18%'),description='D ν₀:')\n",
    "\n",
    "ruby_slider = widgets.FloatSlider(min=694.2, max=750, step=0.01, value=694.2, description='R1 λ:',slider_color='green',layout=Layout(width='52.5%'),continuous_update=False)            \n",
    "raman_slider = widgets.FloatSlider(min=1332, max=1600, step=0.1, value=1332, description='001 ν:',slider_color='green',layout=Layout(width='52.5%'),continuous_update=False)            \n",
    "\n",
    "P_slider2 = widgets.FloatSlider(min=0, max=200, step=0.1, value=0, description='P in GPa:',slider_color='green',layout=Layout(width='100%'),disabled=True)            \n",
    "\n",
    "w3=widgets.interactive(ruby_scale,scale1=ruby_dropdown)\n",
    "w4=widgets.interactive(raman_scale,scale2=raman_dropdown)\n",
    "w5=widgets.interactive(R1_0,R1_0_value=R1_0_box)\n",
    "w6=widgets.interactive(V1_0,V1_0_value=V1_0_box)\n",
    "w7=widgets.interactive(ruby,R1=ruby_slider)\n",
    "w8=widgets.interactive(raman,V1=raman_slider)\n",
    "\n",
    "ruby_dropdown.value = 1\n",
    "initialise2()\n",
    "cal_plot(raman_slider.value,float(V1_0_box.value[0:-5]))\n",
    "VBox([HBox([ruby_dropdown,R1_0_box,ruby_slider]),HBox([raman_dropdown,V1_0_box,raman_slider]),HBox([P_slider2])])"
   ]
  },
  {
   "cell_type": "code",
   "execution_count": null,
   "metadata": {
    "collapsed": true
   },
   "outputs": [],
   "source": []
  }
 ],
 "metadata": {
  "anaconda-cloud": {},
  "kernelspec": {
   "display_name": "Python 3",
   "language": "python",
   "name": "python3"
  },
  "language_info": {
   "codemirror_mode": {
    "name": "ipython",
    "version": 3
   },
   "file_extension": ".py",
   "mimetype": "text/x-python",
   "name": "python",
   "nbconvert_exporter": "python",
   "pygments_lexer": "ipython3",
   "version": "3.6.0"
  },
  "widgets": {
   "state": {
    "030a44d1c20a442795a9f94a9c4aa644": {
     "views": [
      {
       "cell_index": 3
      },
      {
       "cell_index": 3
      }
     ]
    },
    "5e5fbd33ac8e43f5953acdd087cc298b": {
     "views": [
      {
       "cell_index": 3
      }
     ]
    },
    "6a6f41138c3c4e7281ffbd75ab90b29c": {
     "views": [
      {
       "cell_index": 4
      }
     ]
    },
    "79ac04562a49499b801cb8b6d083ff7d": {
     "views": [
      {
       "cell_index": 3
      }
     ]
    },
    "928ab1db1713427284406de6be61d27e": {
     "views": [
      {
       "cell_index": 3
      }
     ]
    },
    "97b4e0f9e3644faeb1fadc4e14f37a36": {
     "views": [
      {
       "cell_index": 3
      }
     ]
    },
    "a6ae6449a45a4f7c8445226d4642eb82": {
     "views": [
      {
       "cell_index": 6
      }
     ]
    }
   },
   "version": "1.2.0"
  }
 },
 "nbformat": 4,
 "nbformat_minor": 0
}
