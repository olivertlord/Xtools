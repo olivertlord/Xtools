{
 "cells": [
  {
   "cell_type": "markdown",
   "metadata": {},
   "source": [
    "<h1 align=\"center\">Xtools</h1>\n",
    "<h3 align=\"center\">Written by <a href=\"mailto:oliver.lord@bristol.ac.uk\">Oliver T Lord</a></h3> \n",
    "<h4 align=\"center\"><a href=\"http://www.bristol.ac.uk/earthsciences/people/person/oliver-t-lord/overview.html\">School of Earth Sciences, University of Bristol</h4>"
   ]
  },
  {
   "cell_type": "markdown",
   "metadata": {},
   "source": [
    "Copyright 2018 Oliver Lord\n",
    " \n",
    "This file is part of Xtools.\n",
    " \n",
    "Xtools is free software: you can redistribute it and/or modify\n",
    "it under the terms of the GNU General Public License as published by\n",
    "the Free Software Foundation, either version 3 of the License, or\n",
    "(at your option) any later version.\n",
    " \n",
    "Xtools is distributed in the hope that it will be useful,\n",
    "but WITHOUT ANY WARRANTY; without even the implied warranty of\n",
    "MERCHANTABILITY or FITNESS FOR A PARTICULAR PURPOSE.  See the\n",
    "GNU General Public License for more details.\n",
    " \n",
    "You should have received a copy of the GNU General Public License\n",
    "along with Xtools.  If not, see <http://www.gnu.org/licenses/>."
   ]
  },
  {
   "cell_type": "markdown",
   "metadata": {},
   "source": [
    "<h2 align=\"left\">TOOL 1: PV calculator</h2>"
   ]
  },
  {
   "cell_type": "code",
   "execution_count": 1,
   "metadata": {
    "collapsed": true
   },
   "outputs": [],
   "source": [
    "%%capture\n",
    "!jupyter nbextension enable --py --sys-prefix widgetsnbextension"
   ]
  },
  {
   "cell_type": "code",
   "execution_count": 2,
   "metadata": {
    "collapsed": false
   },
   "outputs": [
    {
     "data": {
      "application/vnd.jupyter.widget-view+json": {
       "model_id": "9fed854e70ef44a3a5f808cd0b1a32ec",
       "version_major": 2,
       "version_minor": 0
      },
      "text/html": [
       "<p>Failed to display Jupyter Widget of type <code>VBox</code>.</p>\n",
       "<p>\n",
       "  If you're reading this message in the Jupyter Notebook or JupyterLab Notebook, it may mean\n",
       "  that the widgets JavaScript is still loading. If this message persists, it\n",
       "  likely means that the widgets JavaScript library is either not installed or\n",
       "  not enabled. See the <a href=\"https://ipywidgets.readthedocs.io/en/stable/user_install.html\">Jupyter\n",
       "  Widgets Documentation</a> for setup instructions.\n",
       "</p>\n",
       "<p>\n",
       "  If you're reading this message in another frontend (for example, a static\n",
       "  rendering on GitHub or <a href=\"https://nbviewer.jupyter.org/\">NBViewer</a>),\n",
       "  it may mean that your frontend doesn't currently support widgets.\n",
       "</p>\n"
      ],
      "text/plain": [
       "VBox(children=(HBox(children=(Dropdown(description='Phase:', layout=Layout(width='47.5%'), options=('Choose', 'MgSiO3 perovskite', 'MgCO3 magnesite', 'SiO2 stishovite', 'Pt', 'Au', 'NaCl B1', 'NaCl B2', 'CO2-V'), value='Choose'),)), HBox(children=(Dropdown(description='EoS:', disabled=True, layout=Layout(width='47.5%'), options=('Choose', '3rd Order Birch-Murnaghan', 'Vinet'), value='Choose'),)), HBox(children=(Dropdown(description='Ref:', disabled=True, layout=Layout(width='47.5%'), options=('Choose',), value='Choose'), Text(value='', disabled=True, layout=Layout(width='12%')), Text(value='', disabled=True, layout=Layout(width='12%')), Text(value='', disabled=True, layout=Layout(width='12%'))))))"
      ]
     },
     "metadata": {},
     "output_type": "display_data"
    }
   ],
   "source": [
    "import ipywidgets as widgets\n",
    "import numpy as np\n",
    "import sys\n",
    "\n",
    "from ipywidgets import Layout, HBox, VBox\n",
    "from IPython.core.display import display\n",
    "from scipy.optimize import fsolve\n",
    "\n",
    "global P_max, phase, EoS\n",
    "P_max, V0, EoS, phase, ref = 200, 40, 1, 1, 1\n",
    "\n",
    "def phases(phase,EoS,ref):\n",
    "    global V0, K, Kp, a0, b0, c0\n",
    "    if phase == 'MgSiO3 perovskite':\n",
    "        #Data from: Tange et al. (2012) 10.1029/2011JB008988 and Tange et al. (2009) 10.1029/2008JB005891\n",
    "        dropdown2.value, dropdown2.disabled = '3rd Order Birch-Murnaghan', True\n",
    "        dropdown3.options, dropdown3.disabled = ['Tange et al. (2012)'], True\n",
    "        V0, K, Kp, a0, b0, c0 = 162.373, 258.4, 4.1, 4.7769, 4.9284, 6.8972\n",
    "    if phase == 'MgCO3 magnesite':\n",
    "        #Data from: Fiquet et al. (2002) American Mineralogist 87:1261-1265\n",
    "        dropdown2.value, dropdown2.disabled = '3rd Order Birch-Murnaghan', True\n",
    "        dropdown3.options, dropdown3.disabled = ['Fiquet et al. (2002)'], True\n",
    "        V0, K, Kp, a0, b0, c0 = 279.2, 108, 5, 4.6377, 4.6377, 15.007\n",
    "    if phase == 'SiO2 stishovite':\n",
    "        #Data from: Wang et al. (2012) 10.1029/2011JB009100\n",
    "        dropdown3.options, dropdown3.disabled = ['Wang et al. (2012)'], True\n",
    "        dropdown2.options, dropdown2.disabled = ['Choose','3rd Order Birch-Murnaghan','Vinet'], False\n",
    "        if EoS == '3rd Order Birch-Murnaghan':\n",
    "            V0, K, Kp, a0, b0, c0 = 46.55, 294, 4.85, 4.66, 4.66, 2.8403\n",
    "        if EoS == 'Vinet':\n",
    "            V0, K, Kp, a0, b0, c0 = 46.55, 292, 5.01, 4.66, 4.66, 2.8403\n",
    "    if phase == 'Pt':\n",
    "        #Data from: Dorogokupets & Dewaele (2007) 10.1080/08957950701659700\n",
    "        dropdown2.value, dropdown2.disabled = '3rd Order Birch-Murnaghan', True\n",
    "        dropdown3.options, dropdown3.disabled = ['Dorogokupets & Dewaele (2007)'], True\n",
    "        V0, K, Kp, a0, b0, c0 = 60.38, 277.3, 5.12, 3.9231, 3.9231, 3.9231\n",
    "    if phase == 'Au':\n",
    "        #Data from: Fei et al. (2012) 10.1073/pnas.0609013104\n",
    "        dropdown3.options, dropdown3.disabled = ['Fei et al. (2012)'], True\n",
    "        dropdown2.options, dropdown2.disabled = ['Choose','3rd Order Birch-Murnaghan','Vinet'], False\n",
    "        if EoS == '3rd Order Birch-Murnaghan':\n",
    "            V0, K, Kp, a0, b0, c0 = 67.85, 167, 5.77, 4.0786, 4.0786, 4.0786\n",
    "        if EoS == 'Vinet':\n",
    "            V0, K, Kp, a0, b0, c0 = 67.85, 167, 6.00, 4.0786, 4.0786, 4.0786\n",
    "    if phase == 'NaCl B1':\n",
    "        dropdown3.options, dropdown3.disabled = ['Choose','Dorogokupets & Dewaele (2007)', 'Decker (1971)'], False\n",
    "        dropdown2.options, dropdown2.disabled = ['Choose','3rd Order Birch-Murnaghan','Vinet'], True\n",
    "        #Data from: Dorogokupets & Dewaele (2007) 10.1080/08957950701659700\n",
    "        if ref == 'Dorogokupets & Dewaele (2007)':\n",
    "            dropdown2.value = 'Vinet'\n",
    "            V0, K, Kp, a0, b0, c0 = 179.44, 23.83, 5.09, 5.6404, 5.6404, 5.6404\n",
    "        #Data from: Decker (1971) 10.1080/08957950701659700\n",
    "        if ref == 'Decker (1971)':\n",
    "            dropdown2.value = '3rd Order Birch-Murnaghan'\n",
    "            V0, K, Kp, a0, b0, c0 = 179.43, 24.02, 4.74, 5.6402, 5.6402, 5.6402\n",
    "    if phase == 'NaCl B2':\n",
    "        #Data from: Dorogokupets & Dewaele (2007) 10.1080/08957950701659700\n",
    "        dropdown2.value, dropdown2.disabled = 'Vinet', True\n",
    "        dropdown3.options, dropdown3.disabled = ['Dorogokupets & Dewaele (2007)'], True\n",
    "        V0, K, Kp, a0, b0, c0 = 40.73, 29.72, 5.14, 3.4407, 3.4407, 3.4407\n",
    "    if phase == 'CO2-V':\n",
    "        #Data from: Datchi et al. (2012) 10.1103/PhysRevLett.108.125701\n",
    "        dropdown2.value, dropdown2.disabled = 'Vinet', True\n",
    "        dropdown3.options, dropdown3.disabled = ['Datchi et al. (2012)'], True\n",
    "        V0, K, Kp, a0, b0, c0 = 90.99, 137.0, 3.7, 4.7769, 4.9284, 6.8972\n",
    "    initialise(EoS)\n",
    "\n",
    "def phase_selector(phase):\n",
    "    dropdown2.value, dropdown2.disabled = 'Choose', False\n",
    "    dropdown3.value, dropdown3.disabled = 'Choose', False\n",
    "    phases\n",
    "                \n",
    "def EoS_selector(EoS):\n",
    "    phases\n",
    "            \n",
    "def ref_selector(ref):\n",
    "    phases\n",
    "            \n",
    "def initialise(EoS):\n",
    "    K_box.value = (\"K = \" + str(K) + \" GPa\")\n",
    "    Kp_box.value = (\"K' = \" + str(Kp))\n",
    "    V0_box.value = (\"V₀ = \" + str(V0) + \" Å³\")\n",
    "    if EoS == 'Choose':\n",
    "        K_box.value, Kp_box.value, V0_box.value,  = (''), (''), ('')\n",
    "\n",
    "def BM3(V,P):\n",
    "    return P-((3/2)*(K*(((V0/V)**(7/3))-((V0/V)**(5/3)))*(1-(((3/4)*(4-Kp))*(((V0/V)**(2/3))-1)))))\n",
    "\n",
    "def Vinet(V,P):\n",
    "    return P-(3*K*((1-((V/V0)**(1/3)))/((V/V0)**(2/3)))*np.exp((3/2)*(Kp-1)*(1-((V/V0)**(1/3)))))\n",
    "\n",
    "phase_items = ['Choose', 'MgSiO3 perovskite', 'MgCO3 magnesite', 'SiO2 stishovite', 'Pt', 'Au','NaCl B1','NaCl B2', 'CO2-V']\n",
    "EoS_items = ['Choose', '3rd Order Birch-Murnaghan', 'Vinet']\n",
    "\n",
    "dropdown1 = widgets.Dropdown(options = phase_items,description='Phase:',layout=Layout(width='47.5%'))\n",
    "dropdown2 = widgets.Dropdown(options = EoS_items,description='EoS:',layout=Layout(width='47.5%'),disabled=True)    \n",
    "dropdown3 = widgets.Dropdown(options = ['Choose'],description='Ref:',layout=Layout(width='47.5%'),disabled=True)    \n",
    "\n",
    "w1=widgets.interactive(phase_selector,phase=dropdown1,EoS=dropdown2,ref=dropdown3)\n",
    "w2=widgets.interactive(phases,phase=dropdown1,EoS=dropdown2,ref=dropdown3)\n",
    "w3=widgets.interactive(phases,phase=dropdown1,EoS=dropdown2,ref=dropdown3)\n",
    "\n",
    "K_box = widgets.Text(disabled=True,text_color='green',background_color='green',layout=Layout(width='12%'))\n",
    "Kp_box = widgets.Text(disabled=True,text_color='green',background_color='green',layout=Layout(width='12%'))\n",
    "V0_box = widgets.Text(disabled=True,text_color='green',background_color='green',layout=Layout(width='12%'))\n",
    "\n",
    "VBox([HBox([dropdown1]), HBox([dropdown2]), HBox([dropdown3, K_box, Kp_box, V0_box])])"
   ]
  },
  {
   "cell_type": "code",
   "execution_count": null,
   "metadata": {
    "collapsed": true
   },
   "outputs": [
    {
     "data": {
      "application/vnd.jupyter.widget-view+json": {
       "model_id": "29c6e1d977084acb92a46ec8c0000f72",
       "version_major": 2,
       "version_minor": 0
      },
      "text/html": [
       "<p>Failed to display Jupyter Widget of type <code>VBox</code>.</p>\n",
       "<p>\n",
       "  If you're reading this message in the Jupyter Notebook or JupyterLab Notebook, it may mean\n",
       "  that the widgets JavaScript is still loading. If this message persists, it\n",
       "  likely means that the widgets JavaScript library is either not installed or\n",
       "  not enabled. See the <a href=\"https://ipywidgets.readthedocs.io/en/stable/user_install.html\">Jupyter\n",
       "  Widgets Documentation</a> for setup instructions.\n",
       "</p>\n",
       "<p>\n",
       "  If you're reading this message in another frontend (for example, a static\n",
       "  rendering on GitHub or <a href=\"https://nbviewer.jupyter.org/\">NBViewer</a>),\n",
       "  it may mean that your frontend doesn't currently support widgets.\n",
       "</p>\n"
      ],
      "text/plain": [
       "VBox(children=(HBox(children=(FloatSlider(value=0.0, description='P in GPa:', layout=Layout(width='100%'), max=200.0),)), HBox(children=(Text(value='', description='Lattice:', disabled=True, layout=Layout(width='19%')), Text(value='', disabled=True, layout=Layout(width='12%')), Text(value='', disabled=True, layout=Layout(width='12%')), Text(value='', disabled=True, layout=Layout(width='12%'))))))"
      ]
     },
     "metadata": {},
     "output_type": "display_data"
    }
   ],
   "source": [
    "global P_max, phase, EoS, V0, K, Kp, a0, b0, c0\n",
    "def V_calc(P):\n",
    "        if EoS == 1 or 2:\n",
    "            V = fsolve(lambda V,P: BM3(V,P), 1, args=(P), xtol=1e-5)\n",
    "        if EoS == 3:\n",
    "            V = fsolve(lambda V,P: Vinet(V,P), 1, args=(P), xtol=1e-5)\n",
    "        VV_box.value = (\"V = \" + str(np.around(V,3))[1:-1] + \" Å³\")\n",
    "        Va_box.value = (\"a = \" + str(np.around((V/V0)**(1/3)*a0,3))[1:-1] + \" Å\")\n",
    "        Vb_box.value = (\"b = \" + str(np.around((V/V0)**(1/3)*b0,3))[1:-1] + \" Å\")\n",
    "        Vc_box.value = (\"c = \" + str(np.around((V/V0)**(1/3)*c0,3))[1:-1] + \" Å\")\n",
    "              \n",
    "P_slider = widgets.FloatSlider(min=0, max=200, step=0.1, value=0, description='P in GPa:',slider_color='green',layout=Layout(width='100%'))            \n",
    "widgets.interactive(V_calc,P=P_slider)\n",
    "\n",
    "VV_box = widgets.Text(disabled=True,color='black',layout=Layout(width='19%'),description='Lattice:')\n",
    "Va_box = widgets.Text(disabled=True,color='black',layout=Layout(width='12%'))\n",
    "Vb_box = widgets.Text(disabled=True,color='black',layout=Layout(width='12%'))\n",
    "Vc_box = widgets.Text(disabled=True,color='black',layout=Layout(width='12%'))\n",
    "\n",
    "VBox([HBox([P_slider]), HBox([VV_box, Va_box, Vb_box, Vc_box])])"
   ]
  },
  {
   "cell_type": "markdown",
   "metadata": {},
   "source": [
    "<h2 align=\"left\">TOOL 2: Ruby Fluorescence and Raman Pressure Calibrations</h2>"
   ]
  },
  {
   "cell_type": "code",
   "execution_count": null,
   "metadata": {},
   "outputs": [
    {
     "data": {
      "application/vnd.jupyter.widget-view+json": {
       "model_id": "6f63ee5a92114ee69d85a1b08f10c129",
       "version_major": 2,
       "version_minor": 0
      },
      "text/html": [
       "<p>Failed to display Jupyter Widget of type <code>VBox</code>.</p>\n",
       "<p>\n",
       "  If you're reading this message in the Jupyter Notebook or JupyterLab Notebook, it may mean\n",
       "  that the widgets JavaScript is still loading. If this message persists, it\n",
       "  likely means that the widgets JavaScript library is either not installed or\n",
       "  not enabled. See the <a href=\"https://ipywidgets.readthedocs.io/en/stable/user_install.html\">Jupyter\n",
       "  Widgets Documentation</a> for setup instructions.\n",
       "</p>\n",
       "<p>\n",
       "  If you're reading this message in another frontend (for example, a static\n",
       "  rendering on GitHub or <a href=\"https://nbviewer.jupyter.org/\">NBViewer</a>),\n",
       "  it may mean that your frontend doesn't currently support widgets.\n",
       "</p>\n"
      ],
      "text/plain": [
       "VBox(children=(HBox(children=(Dropdown(description='RUBY:', layout=Layout(width='35%'), options={'Hydrostatic - Dewaele et al. 2004': 1, 'Non-hydrostatic - Mao et al. 1986': 2}, value=1), Text(value='694.2', description='R1 λ₀ (nm)', layout=Layout(width='18%')), FloatSlider(value=694.2, continuous_update=False, description='R1 λ:', layout=Layout(width='52.5%'), max=750.0, min=69.0, step=0.01))), HBox(children=(Dropdown(description='RAMAN:', disabled=True, layout=Layout(width='35%'), options={'Walter et al. 2014': 1}, value=1), Text(value='1332.0', description='D ν₀ (cm⁻¹)', layout=Layout(width='18%')), FloatSlider(value=1332.0, continuous_update=False, description='001 ν:', layout=Layout(width='52.5%'), max=2793323615648.661, min=1.0))), HBox(children=(FloatSlider(value=0.0, description='P in GPa:', disabled=True, layout=Layout(width='100%'), max=1399455131439.4783),)), HBox(children=(Output(),))))"
      ]
     },
     "metadata": {},
     "output_type": "display_data"
    }
   ],
   "source": [
    "from ipywidgets import IntSlider, Button, VBox, HBox, interactive\n",
    "\n",
    "A, B = 1904, 9.500\n",
    "\n",
    "def ruby_scale(scale1):\n",
    "    global A, B\n",
    "    if scale1 == 2:\n",
    "        #Data from: Dewaele et al. (2004) 10.1103/PhysRevB.70.094112\n",
    "        A, B = 1904, 9.500\n",
    "    if scale1 == 3:\n",
    "        #Data from: Mao et al. (1986)\n",
    "        A, B = 1904, 7.665\n",
    "    initialise2()\n",
    "    \n",
    "def raman_scale(scale2):\n",
    "    return scale2\n",
    "\n",
    "def ruby(R1):\n",
    "    R1_0,V1_0=get_boxes()\n",
    "    delta=R1-R1_0\n",
    "    ruby_P=A/B*((1+delta/R1_0)**B-1)\n",
    "    P_slider2.value=ruby_P\n",
    "    raman_slider.value=(ruby_P*(1/0.501))+V1_0\n",
    "\n",
    "def raman(V1):\n",
    "    R1_0,V1_0=get_boxes()\n",
    "    raman_P=0.501*(V1-V1_0)\n",
    "    P_slider2.value=raman_P\n",
    "    ruby_slider.value=R1_0*(((B*((A/B)+raman_P))/A)**(1/B))\n",
    "\n",
    "def cal_plot(i):\n",
    "    R1_0,V1_0=get_boxes()    \n",
    "    dV = raman_slider.value-V1_0\n",
    "    dV_range = np.arange(0., (raman_slider.max-V1_0), 0.2)\n",
    "    figure(num=1, figsize=(8, 6), dpi=80, facecolor='w', edgecolor='k')\n",
    "    line1, line2, = plt.plot(dV_range, dV_range*0.501, 'r-', dV, dV*0.501,  'bo')\n",
    "    plt.ylim(0, P_slider2.max)\n",
    "    plt.xlim(0, raman_slider.max-V1_0)\n",
    "    ylab = 'Raman Pressure (GPa)'\n",
    "    plt.ylabel('Pressure (GPa)', fontsize=18)\n",
    "    plt.xlabel('Δν (cm⁻¹)', fontsize=18)\n",
    "    \n",
    "def R1_0(R1_0_value):\n",
    "    R1_0 = (float(R1_0_box.value[0:-3]))\n",
    "    initialise2()\n",
    "    \n",
    "def V1_0(V1_0_value):\n",
    "    V1_0 = (float(V1_0_box.value[0:-5]))\n",
    "    initialise2()\n",
    "    \n",
    "def get_boxes():\n",
    "    R1_0   = (float(R1_0_box.value[0:-3]))\n",
    "    V1_0   = (float(V1_0_box.value[0:-5]))\n",
    "    return (R1_0,V1_0)\n",
    "\n",
    "def initialise2():\n",
    "    R1_0,V1_0=get_boxes()\n",
    "    ruby_slider.max    = 750\n",
    "    ruby_slider.value  = R1_0\n",
    "    ruby_slider.min    = R1_0\n",
    "    P_slider2.max      = A/B*((1+(ruby_slider.max-R1_0)/R1_0)**B-1)\n",
    "    P_slider2.value    = 0\n",
    "    raman_slider.max   = ((P_slider2.max*(1/0.501))+V1_0)\n",
    "    raman_slider.value = V1_0\n",
    "    raman_slider.min   = V1_0\n",
    "    \n",
    "ruby_dropdown = widgets.Dropdown(options = {'Hydrostatic - Dewaele et al. 2004': 1, 'Non-hydrostatic - Mao et al. 1986': 2},description='RUBY:',layout=Layout(width='35%'))\n",
    "raman_dropdown = widgets.Dropdown(options = {'Walter et al. 2014': 1},description='RAMAN:',layout=Layout(width='35%'),disabled=True)\n",
    "\n",
    "R1_0_box = widgets.Text(value='694.2',disabled=False,text_color='green',background_color='green',layout=Layout(width='18%'),description='R1 λ₀ (nm)')\n",
    "V1_0_box = widgets.Text(value='1332.0',disabled=False,text_color='green',background_color='green',layout=Layout(width='18%'),description='D ν₀ (cm⁻¹)')\n",
    "    \n",
    "ruby_slider = widgets.FloatSlider(min=694.2, max=750, step=0.01, value=694.2, description='R1 λ:',slider_color='green',layout=Layout(width='52.5%'),continuous_update=False)            \n",
    "raman_slider = widgets.FloatSlider(min=1332, max=1600, step=0.1, value=1332, description='001 ν:',slider_color='green',layout=Layout(width='52.5%'),continuous_update=False)   \n",
    "P_slider2 = widgets.FloatSlider(min=0, max=200, step=0.1, value=0, description='P in GPa:',slider_color='green',layout=Layout(width='100%'),disabled=True)\n",
    "\n",
    "w3=widgets.interactive(ruby_scale,scale1=ruby_dropdown)\n",
    "w4=widgets.interactive(raman_scale,scale2=raman_dropdown)\n",
    "w5=widgets.interactive(R1_0,R1_0_value=R1_0_box)\n",
    "w6=widgets.interactive(V1_0,V1_0_value=V1_0_box)\n",
    "w7=widgets.interactive(ruby,R1=ruby_slider)\n",
    "w8=widgets.interactive(raman,V1=raman_slider)\n",
    "\n",
    "initialise2()\n",
    "intwidget = interactive(cal_plot, i=P_slider2)\n",
    "intoutput = intwidget.children[-1]\n",
    "display(VBox([HBox([ruby_dropdown,R1_0_box,ruby_slider]),HBox([raman_dropdown,V1_0_box,raman_slider]),HBox([P_slider2]),HBox([intoutput])]))\n",
    "intwidget.update()"
   ]
  },
  {
   "cell_type": "code",
   "execution_count": null,
   "metadata": {},
   "outputs": [],
   "source": []
  }
 ],
 "metadata": {
  "anaconda-cloud": {},
  "kernelspec": {
   "display_name": "Python 3",
   "language": "python",
   "name": "python3"
  },
  "language_info": {
   "codemirror_mode": {
    "name": "ipython",
    "version": 3
   },
   "file_extension": ".py",
   "mimetype": "text/x-python",
   "name": "python",
   "nbconvert_exporter": "python",
   "pygments_lexer": "ipython3",
   "version": "3.6.4"
  }
 },
 "nbformat": 4,
 "nbformat_minor": 2
}
