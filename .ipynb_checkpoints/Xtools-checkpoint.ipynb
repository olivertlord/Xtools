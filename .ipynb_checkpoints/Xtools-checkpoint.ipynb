{
 "cells": [
  {
   "cell_type": "code",
   "execution_count": 1,
   "metadata": {
    "collapsed": false
   },
   "outputs": [
    {
     "data": {
      "text/html": [
       "<script>\n",
       "code_show=true; \n",
       "function code_toggle() {\n",
       " if (code_show){\n",
       " $('div.input').hide();\n",
       " } else {\n",
       " $('div.input').show();\n",
       " }\n",
       " code_show = !code_show\n",
       "} \n",
       "$( document ).ready(code_toggle);\n",
       "</script>\n",
       "The raw code for this IPython notebook is by default hidden for easier reading.\n",
       "To toggle on/off the raw code, click <a href=\"javascript:code_toggle()\">here</a>."
      ],
      "text/plain": [
       "<IPython.core.display.HTML object>"
      ]
     },
     "execution_count": 1,
     "metadata": {},
     "output_type": "execute_result"
    }
   ],
   "source": [
    "from IPython.display import HTML\n",
    "\n",
    "HTML('''<script>\n",
    "code_show=true; \n",
    "function code_toggle() {\n",
    " if (code_show){\n",
    " $('div.input').hide();\n",
    " } else {\n",
    " $('div.input').show();\n",
    " }\n",
    " code_show = !code_show\n",
    "} \n",
    "$( document ).ready(code_toggle);\n",
    "</script>\n",
    "The raw code for this IPython notebook is by default hidden for easier reading.\n",
    "To toggle on/off the raw code, click <a href=\"javascript:code_toggle()\">here</a>.''')\n"
   ]
  },
  {
   "cell_type": "markdown",
   "metadata": {
    "collapsed": true
   },
   "source": [
    "<h1 align=\"center\">Synchrotron Tools</h1>"
   ]
  },
  {
   "cell_type": "markdown",
   "metadata": {},
   "source": [
    "<h2 align=\"left\">Select phase and EoS</h2>"
   ]
  },
  {
   "cell_type": "code",
   "execution_count": 2,
   "metadata": {
    "collapsed": false
   },
   "outputs": [
    {
     "name": "stdout",
     "output_type": "stream",
     "text": [
      "Enabling notebook extension jupyter-js-widgets/extension...\r\n",
      "      - Validating: \u001b[32mOK\u001b[0m\r\n"
     ]
    }
   ],
   "source": [
    "!jupyter nbextension enable --py --sys-prefix widgetsnbextension\n",
    "\n",
    "import ipywidgets as widgets\n",
    "import numpy as np\n",
    "import sys\n",
    "\n",
    "from ipywidgets import Layout, HBox, VBox\n",
    "from IPython.core.display import display\n",
    "from scipy.optimize import fsolve\n",
    "\n",
    "global P_max\n",
    "P_max, V0, EoS = 200, 40, 2\n",
    "\n",
    "def phase_selector(phase):\n",
    "    global K, Kp, V0, a0, b0, c0\n",
    "    if phase == 2: \n",
    "        #Data from: Tange et al. (2012) 10.1029/2011JB008988 and Tange et al. (2009) 10.1029/2008JB005891\n",
    "        V0, K, Kp, a0, b0, c0 = 162.373, 258.4, 4.1, 4.7769, 4.9284, 6.8972\n",
    "    if phase == 3: \n",
    "        #Data from: Fiquet et al. (2002) American Mineralogist 87:1261-1265\n",
    "        V0, K, Kp, a0, b0, c0 = 279.2, 108, 5, 4.6377, 4.6377, 15.007\n",
    "    if phase == 4: \n",
    "        #Data from: Wang et al. (2012) 10.1029/2011JB009100\n",
    "        if EoS == 2:\n",
    "            V0, K, Kp, a0, b0, c0 = 46.55, 294, 4.85, 4.66, 4.66, 2.8403\n",
    "        if EoS == 3:\n",
    "            V0, K, Kp, a0, b0, c0 = 46.55, 292, 5.01, 4.66, 4.66, 2.8403\n",
    "    K_box.value = (\"K = \" + str(K) + \" GPa\")\n",
    "    Kp_box.value = (\"K' = \" + str(K))\n",
    "    V0_box.value = (\"V₀ = \" + str(K) + \" Å³\")\n",
    "    EoS_selector(EoS)\n",
    "    \n",
    "def EoS_selector(EoS):\n",
    "    P_slider.value = 0\n",
    "    V_slider.max = V0\n",
    "    V_slider.value = V0\n",
    "    if EoS == 2:\n",
    "        V_slider.min = fsolve(lambda V,P: BM3(V,P), 1, args=(P_max), xtol=1e-5)\n",
    "    if EoS == 3:\n",
    "        V_slider.min = fsolve(lambda V,P: Vinet(V,P), 1, args=(P_max), xtol=1e-5)\n",
    "            \n",
    "def BM3(V,P):\n",
    "    return P-((3/2)*K*(((V0/V)**(7/3))-((V0/V)**(5/3)))*(1-(3/4)*(4-Kp))*((V0/V)**(2/3)-1))\n",
    "\n",
    "def Vinet(V,P):\n",
    "    return P-(3*K*((1-((V/V0)**(1/3)))/((V/V0)**(2/3)))*np.exp((3/2)*(Kp-1)*(1-((V/V0)**(1/3)))))\n",
    "            \n",
    "dropdown1 = widgets.Dropdown(options = {'Choose': 1, 'MgSiO3 perovskite': 2, 'MgCO3 magnesite': 3, 'SiO2 stishovite': 4},description='Phase:',layout=Layout(width='47.5%'))\n",
    "dropdown2 = widgets.Dropdown(options = {'Choose': 1, '3rd Order Birch-Murnaghan': 2, 'Vinet': 3},description='EoS:',layout=Layout(width='47.5%'))    \n",
    "\n",
    "w1=widgets.interactive(phase_selector,phase=dropdown1)\n",
    "w2=widgets.interactive(EoS_selector,EoS=dropdown2)\n",
    "\n",
    "K_box = widgets.Text(disabled=True,text_color='green',background_color='green',layout=Layout(width='12%'))\n",
    "Kp_box = widgets.Text(disabled=True,text_color='green',background_color='green',layout=Layout(width='12%'))\n",
    "V0_box = widgets.Text(disabled=True,text_color='green',background_color='green',layout=Layout(width='12%'))\n",
    "\n",
    "VBox([HBox([dropdown1, K_box, Kp_box, V0_box]), HBox([dropdown2])])"
   ]
  },
  {
   "cell_type": "markdown",
   "metadata": {},
   "source": [
    "<h2 align=\"left\">TOOL 1: PV calculator</h2>"
   ]
  },
  {
   "cell_type": "code",
   "execution_count": 3,
   "metadata": {
    "collapsed": false
   },
   "outputs": [
    {
     "ename": "NameError",
     "evalue": "name 'box_titles' is not defined",
     "output_type": "error",
     "traceback": [
      "\u001b[0;31m---------------------------------------------------------------------------\u001b[0m",
      "\u001b[0;31mNameError\u001b[0m                                 Traceback (most recent call last)",
      "\u001b[0;32m<ipython-input-3-229126580e79>\u001b[0m in \u001b[0;36m<module>\u001b[0;34m()\u001b[0m\n\u001b[1;32m     17\u001b[0m \u001b[0mVc_box\u001b[0m \u001b[0;34m=\u001b[0m \u001b[0mwidgets\u001b[0m\u001b[0;34m.\u001b[0m\u001b[0mText\u001b[0m\u001b[0;34m(\u001b[0m\u001b[0mdisabled\u001b[0m\u001b[0;34m=\u001b[0m\u001b[0;32mTrue\u001b[0m\u001b[0;34m,\u001b[0m\u001b[0mcolor\u001b[0m\u001b[0;34m=\u001b[0m\u001b[0;34m'black'\u001b[0m\u001b[0;34m,\u001b[0m\u001b[0mlayout\u001b[0m\u001b[0;34m=\u001b[0m\u001b[0mLayout\u001b[0m\u001b[0;34m(\u001b[0m\u001b[0mwidth\u001b[0m\u001b[0;34m=\u001b[0m\u001b[0;34m'12%'\u001b[0m\u001b[0;34m)\u001b[0m\u001b[0;34m)\u001b[0m\u001b[0;34m\u001b[0m\u001b[0m\n\u001b[1;32m     18\u001b[0m \u001b[0;31m#box_titles = ['VV_box', 'Va_box','Vb_box','Vc_box']\u001b[0m\u001b[0;34m\u001b[0m\u001b[0;34m\u001b[0m\u001b[0m\n\u001b[0;32m---> 19\u001b[0;31m \u001b[0mboxes\u001b[0m \u001b[0;34m=\u001b[0m \u001b[0;34m[\u001b[0m\u001b[0mwidgets\u001b[0m\u001b[0;34m.\u001b[0m\u001b[0mText\u001b[0m\u001b[0;34m(\u001b[0m\u001b[0mdisabled\u001b[0m\u001b[0;34m=\u001b[0m\u001b[0;32mTrue\u001b[0m\u001b[0;34m,\u001b[0m\u001b[0mcolor\u001b[0m\u001b[0;34m=\u001b[0m\u001b[0;34m'black'\u001b[0m\u001b[0;34m,\u001b[0m\u001b[0mlayout\u001b[0m\u001b[0;34m=\u001b[0m\u001b[0mLayout\u001b[0m\u001b[0;34m(\u001b[0m\u001b[0mwidth\u001b[0m\u001b[0;34m=\u001b[0m\u001b[0;34m'12%'\u001b[0m\u001b[0;34m)\u001b[0m\u001b[0;34m)\u001b[0m \u001b[0;32mfor\u001b[0m \u001b[0mi\u001b[0m \u001b[0;32min\u001b[0m \u001b[0mbox_titles\u001b[0m\u001b[0;34m]\u001b[0m\u001b[0;34m\u001b[0m\u001b[0m\n\u001b[0m\u001b[1;32m     20\u001b[0m \u001b[0;34m\u001b[0m\u001b[0m\n\u001b[1;32m     21\u001b[0m \u001b[0mVBox\u001b[0m\u001b[0;34m(\u001b[0m\u001b[0;34m[\u001b[0m\u001b[0mHBox\u001b[0m\u001b[0;34m(\u001b[0m\u001b[0;34m[\u001b[0m\u001b[0mP_slider\u001b[0m\u001b[0;34m]\u001b[0m\u001b[0;34m)\u001b[0m\u001b[0;34m,\u001b[0m \u001b[0mHBox\u001b[0m\u001b[0;34m(\u001b[0m\u001b[0;34m[\u001b[0m\u001b[0mVV_box\u001b[0m\u001b[0;34m,\u001b[0m \u001b[0mVa_box\u001b[0m\u001b[0;34m,\u001b[0m \u001b[0mVb_box\u001b[0m\u001b[0;34m,\u001b[0m \u001b[0mVc_box\u001b[0m\u001b[0;34m]\u001b[0m\u001b[0;34m)\u001b[0m\u001b[0;34m]\u001b[0m\u001b[0;34m)\u001b[0m\u001b[0;34m\u001b[0m\u001b[0m\n",
      "\u001b[0;31mNameError\u001b[0m: name 'box_titles' is not defined"
     ]
    }
   ],
   "source": [
    "def V_calc(P,EoS):\n",
    "        if EoS == 2:\n",
    "            V = fsolve(lambda V,P: BM3(V,P), 1, args=(P), xtol=1e-5)\n",
    "        if EoS == 3:\n",
    "            V = fsolve(lambda V,P: Vinet(V,P), 1, args=(P), xtol=1e-5)\n",
    "        VV_box.value = (\"V = \" + str(np.around(V,3))[1:-1] + \" Å³\")\n",
    "        Va_box.value = (\"a = \" + str(np.around((V/V0)**(1/3)*a0,3))[1:-1] + \" Å\")\n",
    "        Vb_box.value = (\"b = \" + str(np.around((V/V0)**(1/3)*b0,3))[1:-1] + \" Å\")\n",
    "        Vc_box.value = (\"c = \" + str(np.around((V/V0)**(1/3)*c0,3))[1:-1] + \" Å\")\n",
    "              \n",
    "P_slider = widgets.FloatSlider(min=0, max=200, step=0.1, value=0, description='P in GPa:',slider_color='green',layout=Layout(width='52.5%'))            \n",
    "widgets.interactive(V_calc,EoS=dropdown2,P=P_slider)\n",
    "\n",
    "VV_box = widgets.Text(disabled=True,color='black',layout=Layout(width='12%'))\n",
    "Va_box = widgets.Text(disabled=True,color='black',layout=Layout(width='12%'))\n",
    "Vb_box = widgets.Text(disabled=True,color='black',layout=Layout(width='12%'))\n",
    "Vc_box = widgets.Text(disabled=True,color='black',layout=Layout(width='12%'))\n",
    "#box_titles = ['VV_box', 'Va_box','Vb_box','Vc_box']\n",
    "#boxes = [widgets.Text(disabled=True,color='black',layout=Layout(width='12%')) for i in box_titles]\n",
    "\n",
    "VBox([HBox([P_slider]), HBox([VV_box, Va_box, Vb_box, Vc_box])])"
   ]
  },
  {
   "cell_type": "code",
   "execution_count": null,
   "metadata": {
    "collapsed": true
   },
   "outputs": [],
   "source": []
  }
 ],
 "metadata": {
  "anaconda-cloud": {},
  "kernelspec": {
   "display_name": "Python 3",
   "language": "python",
   "name": "python3"
  },
  "language_info": {
   "codemirror_mode": {
    "name": "ipython",
    "version": 3
   },
   "file_extension": ".py",
   "mimetype": "text/x-python",
   "name": "python",
   "nbconvert_exporter": "python",
   "pygments_lexer": "ipython3",
   "version": "3.6.0"
  },
  "widgets": {
   "state": {
    "9f93c305d7f5443186e545e0bebc5467": {
     "views": [
      {
       "cell_index": 3
      }
     ]
    }
   },
   "version": "1.2.0"
  }
 },
 "nbformat": 4,
 "nbformat_minor": 0
}
